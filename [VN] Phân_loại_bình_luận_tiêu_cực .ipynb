{
  "nbformat": 4,
  "nbformat_minor": 0,
  "metadata": {
    "colab": {
      "name": "Phân loại bình luận tiêu cực.ipynb",
      "provenance": [],
      "collapsed_sections": []
    },
    "kernelspec": {
      "name": "python3",
      "display_name": "Python 3"
    },
    "accelerator": "TPU",
    "gpuClass": "standard"
  },
  "cells": [
    {
      "cell_type": "markdown",
      "metadata": {
        "id": "3AkEoCKaHdpj"
      },
      "source": [
        "\n",
        "Trong notebook này, tôi sẽ thử quy trình lập trình RNN với Keras để phân loại các câu văn bản.\n",
        "\n",
        "I.   **Trước tiên**, chúng ta sẽ nhập các thư viện hữu ích.\n",
        "\n",
        "II.   **Sau đó**, chúng ta sẽ load dữ liệu và tạo ma trận word embedding bằng Glove.\n",
        "\n",
        "III.  **Chúng ta sẽ thử một mô hình RNN đơn giản** rồi đánh giá chất lượng của nó.\n",
        "\n",
        "IV. Cuối cùng, chúng ta sẽ sử dụng các kỹ thuật để gia tăng độ chính xác của mô hình."
      ]
    },
    {
      "cell_type": "markdown",
      "metadata": {
        "id": "H4iAL0E0ciDS"
      },
      "source": [
        "## Liên kết với Google Colab\n",
        "\n",
        " "
      ]
    },
    {
      "cell_type": "code",
      "metadata": {
        "id": "I8iz8Rp8H5pG",
        "colab": {
          "base_uri": "https://localhost:8080/"
        },
        "outputId": "f1d8413b-a197-4d3a-a930-6973a74c4a6c"
      },
      "source": [
        "from google.colab import drive\n",
        "drive.mount('/content/drive')"
      ],
      "execution_count": 1,
      "outputs": [
        {
          "output_type": "stream",
          "name": "stdout",
          "text": [
            "Mounted at /content/drive\n"
          ]
        }
      ]
    },
    {
      "cell_type": "markdown",
      "metadata": {
        "id": "LeAakuO9cD5s"
      },
      "source": [
        "# I. Nhập tất cả các thư viện hữu ích."
      ]
    },
    {
      "cell_type": "code",
      "metadata": {
        "id": "TWgEP6KSHmV_"
      },
      "source": [
        "# Cài đặt một số thư viện vị thiếu trên Colab\n",
        "\n",
        "# !pip install tensorflow_addons\n",
        "# import tensorflow_addons as tfa\n",
        "import sys, os, re, csv, codecs, numpy as np, pandas as pd\n",
        "import tensorflow.keras\n",
        "import datetime\n",
        "from tensorflow.keras.layers.experimental.preprocessing import TextVectorization\n",
        "from tensorflow.keras import backend as K\n",
        "import tensorflow.keras.optimizers as Optimizer\n",
        "from tensorflow.keras.utils import to_categorical\n",
        "from tensorflow.keras.callbacks import ModelCheckpoint, TensorBoard\n",
        "from tensorflow.keras.preprocessing.text import Tokenizer\n",
        "from tensorflow.keras.preprocessing.sequence import pad_sequences\n",
        "from tensorflow.keras.layers import Dense, Input, LSTM, Embedding, Dropout, Activation\n",
        "from tensorflow.keras.layers import Bidirectional, GlobalMaxPool1D\n",
        "from tensorflow.keras.models import Model, load_model\n",
        "from tensorflow.keras import initializers, regularizers, constraints, optimizers, layers\n",
        "from sklearn.metrics import confusion_matrix as CM\n",
        "from sklearn.metrics import confusion_matrix, f1_score, precision_score, recall_score\n",
        "import matplotlib.pyplot as plot\n",
        "import seaborn as sn\n",
        "from sklearn.model_selection import train_test_split\n",
        "from tensorflow.keras import layers\n",
        "import keras.models\n",
        "from keras.preprocessing.text import Tokenizer\n",
        "from tensorflow.keras.layers.experimental.preprocessing import TextVectorization\n",
        "from tensorflow.keras.preprocessing.sequence import pad_sequences\n",
        "from keras_preprocessing import sequence\n",
        "import tensorflow as tf\n",
        "import datetime, os\n",
        "from keras.callbacks import ReduceLROnPlateau, EarlyStopping, ModelCheckpoint\n",
        "import sklearn.metrics as metrics"
      ],
      "execution_count": 2,
      "outputs": []
    },
    {
      "cell_type": "markdown",
      "source": [
        "## Định vị dữ liệu trong Google Drive"
      ],
      "metadata": {
        "id": "nvSEnX0rM2P3"
      }
    },
    {
      "cell_type": "code",
      "metadata": {
        "id": "MzzQsanZIZfg",
        "colab": {
          "base_uri": "https://localhost:8080/"
        },
        "outputId": "1d5ad83a-af38-4511-f94c-6fe46aa34b07"
      },
      "source": [
        "%cd /content/drive/MyDrive/Text_Classification\n",
        "%ls\n",
        "# Ở đây đã được chuẩn bị sẳn 1 file Glove và dữ liệu để train"
      ],
      "execution_count": 3,
      "outputs": [
        {
          "output_type": "stream",
          "name": "stdout",
          "text": [
            "/content/drive/MyDrive/Text_Classification\n",
            "glove.6B.50d.txt  train.csv  \u001b[0m\u001b[01;34mtraining_logs\u001b[0m/  weights.best.hdf5\n"
          ]
        }
      ]
    },
    {
      "cell_type": "markdown",
      "source": [
        "## Tạo các đường dẫn"
      ],
      "metadata": {
        "id": "k0-BZ7EDNFFy"
      }
    },
    {
      "cell_type": "code",
      "source": [
        "# Liên kết đường dẫn đến thư mục huấn luyện\n",
        "train=\"/content/drive/MyDrive/Text_Classification/train.csv\"\n",
        "# Liên kết đến từ điển\n",
        "glove=\"/content/drive/MyDrive/Text_Classification/glove.6B.50d.txt\""
      ],
      "metadata": {
        "id": "Wo-5Eq6K7o8G"
      },
      "execution_count": 4,
      "outputs": []
    },
    {
      "cell_type": "markdown",
      "source": [
        "## Xử lí dữ liệu không cân bằng\n",
        "Khi kiểm tra dữ liệu thì nhận thấy được dữ liệu đang bị mất cân bằng với nhãn 0 đang chiếm ưu thế. Điều này ảnh hưởng đến chất lượng của mô hình. Để giải quyết vấn đề mất cân bằng dữ liệu, ta tiến hành xử lý như sau:"
      ],
      "metadata": {
        "id": "HSpwXKUHP7Cl"
      }
    },
    {
      "cell_type": "code",
      "source": [
        "# Load dữ liệu\n",
        "'''\n",
        "Nhằm cải thiện độ chính xác mô hình, ngoài các yêu cầu cơ bản của mô hình \n",
        "ta thêm và một bước nữa đó là xử \n",
        "lí dữ liệu mất cân bằng\n",
        "'''\n",
        "data=pd.read_csv(\"train.csv\")\n",
        "input=data[\"question_text\"]\n",
        "label=data[\"target\"]\n",
        "\n",
        "# Kiểm tra phân bố giá trị của dữ liệu\n",
        "label.value_counts() # Dữ liệu bị chênh lệch giữa 2 biến 1 và 0"
      ],
      "metadata": {
        "colab": {
          "base_uri": "https://localhost:8080/"
        },
        "id": "WyT_DdgbPn_r",
        "outputId": "f39d6b6c-e33e-4982-c35d-569f9d3580d4"
      },
      "execution_count": 5,
      "outputs": [
        {
          "output_type": "execute_result",
          "data": {
            "text/plain": [
              "0    1225312\n",
              "1      80810\n",
              "Name: target, dtype: int64"
            ]
          },
          "metadata": {},
          "execution_count": 5
        }
      ]
    },
    {
      "cell_type": "code",
      "source": [
        "# Tiến hành xử lí dữ liệu mất cân bằng\n",
        "# Sử dụng thư viện imblearn với thuật toán Random Undersampler để loại bỏ lớp bớt dữ liệu lớp đa số\n",
        "\n",
        "from imblearn.under_sampling import RandomUnderSampler\n",
        "\n",
        "input=input.values.reshape(-1,1)\n",
        "label=label.values.reshape(-1,1)\n",
        "input.shape, label.shape\n",
        "\n",
        "rus = RandomUnderSampler(\n",
        "    sampling_strategy='majority',  # samples only the majority class\n",
        "    random_state=42,  # for reproducibility\n",
        "    replacement=True # if it should resample with replacement\n",
        ")  \n",
        "X_resampled, y_resampled = rus.fit_resample(input,label)"
      ],
      "metadata": {
        "id": "vRoYDjI6QKfR"
      },
      "execution_count": 6,
      "outputs": []
    },
    {
      "cell_type": "code",
      "source": [
        "# Lưu dữ liệu đã được xử lí ra DataFrame\n",
        "data_process=pd.DataFrame()\n",
        "data_process[\"question_text\"]=X_resampled.reshape(-1,)\n",
        "data_process[\"target\"]=y_resampled\n",
        "\n",
        "data_process[\"question_text\"]=X_resampled.reshape(-1,)\n",
        "data_process[\"target\"]=y_resampled\n",
        "\n",
        "# Kiểm tra lại dữ liệu\n",
        "X_resampled.shape, y_resampled.shape"
      ],
      "metadata": {
        "id": "UnAHcVG4QAsd",
        "colab": {
          "base_uri": "https://localhost:8080/"
        },
        "outputId": "6e7a0c7a-cdbe-4a5a-85e9-276cb6562161"
      },
      "execution_count": 7,
      "outputs": [
        {
          "output_type": "execute_result",
          "data": {
            "text/plain": [
              "((161620, 1), (161620,))"
            ]
          },
          "metadata": {},
          "execution_count": 7
        }
      ]
    },
    {
      "cell_type": "markdown",
      "metadata": {
        "id": "D_GxFMl7dFJ-"
      },
      "source": [
        "# II. Load lại dữ liệu.\n",
        "\n",
        "## Về tập dữ liệu.\n",
        "Câu hỏi không hợp lệ là những câu hỏi nhằm đưa ra một tuyên bố thay vì tìm kiếm những câu trả lời hữu ích. Một số đặc điểm cho thấy câu hỏi không hợp lệ gồm:\n",
        "\n",
        "* Có giọng điệu không trung lập.\n",
        "* Có tính chê bai hoặc kích động.\n",
        "* Không có căn cứ thực tế.\n",
        "* Sử dụng nội dung khiêu dâm (loạn luân, thú tính, ấu dâm) để gây sốc, không phải để tìm kiếm câu trả lời xác thực.\n",
        "\n",
        "Dữ liệu bao gồm câu hỏi đã đề ra và liệu nó có được xác định là không hợp lệ hay không (target = 1)."
      ]
    },
    {
      "cell_type": "markdown",
      "metadata": {
        "id": "A9HhWwT-gpuN"
      },
      "source": [
        "## Load tập dữ liệu.\n",
        "* Load dữ liệu từ file CSV.\n",
        "* Xóa tất cả các hàng có giá trị NA.\n",
        "* Chia dữ liệu thành 3 tập: Tập huấn luyện, tập kiểm định và tập kiểm tra (0.9/0.05/0.05, random_seed = 9) với cùng một tỷ lệ số dữ liệu giữa mỗi lớp.\n",
        "* In ra mô tả của tập dữ liệu này.\n",
        " \n",
        "\n"
      ]
    },
    {
      "cell_type": "code",
      "metadata": {
        "id": "j9HMbZrqK1Rq",
        "colab": {
          "base_uri": "https://localhost:8080/"
        },
        "outputId": "611ad17b-c67e-4a1b-aa6c-95060560b06c"
      },
      "source": [
        "# Load lại dữ liệu\n",
        "\n",
        "def load_data(data_link):\n",
        "    '''\n",
        "    input: data link.\n",
        "    output:\n",
        "        train_set, validation_set and test_set(0.95/0.05/0.05) without NA values.\n",
        "    '''\n",
        "    data=data_link\n",
        "    data = data.rename(columns={'target': 'label'})\n",
        "    train, val_test= train_test_split(data[[\"question_text\",\"label\"]],stratify=data[\"label\"] ,test_size = 0.05,  random_state = 0)\n",
        "    validation, test=train_test_split(val_test[[\"question_text\",\"label\"]],stratify=val_test[\"label\"] , test_size = 0.5,  random_state = 0)\n",
        "    return train, validation, test\n",
        "\n",
        "train_set, validation_set, test_set = load_data(data_process)\n",
        "print(train_set['label'].describe())\n",
        "print(validation_set['label'].describe())\n",
        "print(test_set['label'].describe())"
      ],
      "execution_count": 8,
      "outputs": [
        {
          "output_type": "stream",
          "name": "stdout",
          "text": [
            "count    153539.000000\n",
            "mean          0.500003\n",
            "std           0.500002\n",
            "min           0.000000\n",
            "25%           0.000000\n",
            "50%           1.000000\n",
            "75%           1.000000\n",
            "max           1.000000\n",
            "Name: label, dtype: float64\n",
            "count    4040.000000\n",
            "mean        0.500000\n",
            "std         0.500062\n",
            "min         0.000000\n",
            "25%         0.000000\n",
            "50%         0.500000\n",
            "75%         1.000000\n",
            "max         1.000000\n",
            "Name: label, dtype: float64\n",
            "count    4041.000000\n",
            "mean        0.499876\n",
            "std         0.500062\n",
            "min         0.000000\n",
            "25%         0.000000\n",
            "50%         0.000000\n",
            "75%         1.000000\n",
            "max         1.000000\n",
            "Name: label, dtype: float64\n"
          ]
        }
      ]
    },
    {
      "cell_type": "code",
      "source": [
        "# Kiểm tra kích thước các  dữ liệu train test val\n",
        "print(len(train_set[\"label\"]))\n",
        "print(len(validation_set[\"label\"]))\n",
        "print(len(test_set[\"label\"]))"
      ],
      "metadata": {
        "colab": {
          "base_uri": "https://localhost:8080/"
        },
        "id": "cQU7Hd6U8EjA",
        "outputId": "11857dd2-fbec-4afb-9556-e5b34ab4942b"
      },
      "execution_count": 9,
      "outputs": [
        {
          "output_type": "stream",
          "name": "stdout",
          "text": [
            "153539\n",
            "4040\n",
            "4041\n"
          ]
        }
      ]
    },
    {
      "cell_type": "markdown",
      "metadata": {
        "id": "sIcOnRkbqofC"
      },
      "source": [
        "# Mã hóa dữ liệu văn bản.\n",
        "Hãy khai báo một số tham số cơ bản trước:"
      ]
    },
    {
      "cell_type": "code",
      "metadata": {
        "id": "0F3_zcCjHwzm"
      },
      "source": [
        "embed_size = 50 # mỗi vectơ từ lớn bao nhiêu\n",
        "max_features = 20000 # cần sử dụng bao nhiêu từ duy nhất (tức là số hàng trong vectơ embedding)\n",
        "max_len = 50 # sử dụng số từ tối đa trong câu hỏi"
      ],
      "execution_count": 10,
      "outputs": []
    },
    {
      "cell_type": "markdown",
      "metadata": {
        "id": "vT8m71iixjxt"
      },
      "source": [
        "## Mã hóa tập dữ liệu bằng Tokenizer và vectơ biểu diễn one-hot.\n",
        "* Mã hóa văn bản (cột question_text) bằng cách chuyển từng question text thành danh sách chỉ mục từ bằng [Tokenizer](https://stackoverflow.com/questions/51956000/what-does-keras-tokenizer-method-exactly-do) với **max_features** và tất cả các câu văn bản từ tập huấn luyện và tập kiểm định.\n",
        "* Chuyển từng danh sách chỉ mục từ thành độ dài như nhau - **max_len** (có cắt tỉa hoặc đệm nếu cần) bằng cách sử dụng [pad_sequences](https://keras.io/preprocessing/sequence/).\n",
        "* Mã hóa nhãn (cột nhãn) bằng cách sử dụng hàm [to_categorical](https://keras.io/utils/) trong Keras."
      ]
    },
    {
      "cell_type": "code",
      "metadata": {
        "id": "Q1MZKNs4xmfP"
      },
      "source": [
        "def encoding_textdata(train_set, validation_set, test_set, max_features, max_len):\n",
        "    '''\n",
        "    Input:\n",
        "    - Train/validation/test dataset.\n",
        "    - max_features, max_len.\n",
        "    Output:\n",
        "    - X train/validation/test, y train/validation/test.\n",
        "    - Tokenizer.\n",
        "    '''\n",
        "    tokenizer = Tokenizer(num_words=max_features)\n",
        "    data=pd.concat([train_set, validation_set])\n",
        "    tokenizer.fit_on_texts(data[\"question_text\"])\n",
        "\n",
        "    train_token = tokenizer.texts_to_sequences(train_set[\"question_text\"])\n",
        "    val_token = tokenizer.texts_to_sequences(validation_set[\"question_text\"])    \n",
        "    test_token = tokenizer.texts_to_sequences(test_set[\"question_text\"])\n",
        "\n",
        "    X_tr=pad_sequences(train_token, maxlen= max_len)\n",
        "    X_va=pad_sequences(val_token, maxlen= max_len)   \n",
        "    # X_te=test_set[\"question_text\"] \n",
        "    X_te=pad_sequences(test_token, maxlen= max_len)  \n",
        "\n",
        "    y_tr,y_va,y_te=train_set[\"label\"], validation_set[\"label\"], test_set[\"label\"]\n",
        "    return (X_tr, y_tr), (X_va, y_va), (X_te, y_te), tokenizer   \n",
        "\n",
        "(X_tr, y_tr), (X_va, y_va), (X_te, y_te), tokenizer = encoding_textdata(train_set, validation_set, test_set, max_features, max_len)"
      ],
      "execution_count": 11,
      "outputs": []
    },
    {
      "cell_type": "markdown",
      "metadata": {
        "id": "9kpG-p30WUcc"
      },
      "source": [
        "### Tạo ma trận word embedding.\n",
        "* Đầu tiên, tạo một hàm để load [GloVe dictionary.](https://medium.com/analytics-vidhya/basics-of-using-pre-trained-glove-vectors-in-python-d38905f356db)\n",
        "* Sau đó, tạo ma trận word embedding bằng GloVe dictionary với các tham số sau:\n",
        "    - Shape của ma trận word embedding: (Number of word, embed_size).\n",
        "    - Embed size: 50. \n",
        "    - Number of words: Tối thiểu của (max_features, len(word_index)), trong khi word_index là dictionary của từ chứa trong tokenizer.\n",
        "    - Nếu một từ xuất hiện trong GloVe dictionary, chúng ta nên lấy giá trị khởi tạo của nó như trong GloVe dictionary. Nếu không, hãy lấy một giá trị ngẫu nhiên bình thường với mean và std làm mean và std của giá trị GloVe dictionary.\n",
        "    \n",
        "\n"
      ]
    },
    {
      "cell_type": "code",
      "metadata": {
        "id": "47s8-SncWT3V"
      },
      "source": [
        "# Number_of_words=min(max_features,len(word_index))\n",
        "\n",
        "def get_coefs(word,*arr): \n",
        "    return word, np.asarray(arr, dtype='float32')\n",
        "def get_GloVe_dict(GloVe_link):\n",
        "    '''\n",
        "    input: GloVe link.\n",
        "    output: GloVe dictionary.\n",
        "    '''\n",
        "    lines=0\n",
        "    embeddings_index = {}\n",
        "    with open(GloVe_link) as f:\n",
        "        for line in f:\n",
        "            values = line.split()\n",
        "            word = values[0]            \n",
        "            coefs = np.asarray(values[1:], dtype=\"float32\")\n",
        "            embeddings_index[word] = coefs\n",
        "            lines+=1\n",
        "    return  embeddings_index ,lines        \n",
        "GloVe_link = 'glove.6B.50d.txt'\n",
        "GloVe_dict,line = get_GloVe_dict(GloVe_link)"
      ],
      "execution_count": 12,
      "outputs": []
    },
    {
      "cell_type": "code",
      "metadata": {
        "id": "DXRyFSLtr4_k"
      },
      "source": [
        "# Tính toán mean và std của Glove\n",
        "values=[]\n",
        "data_value_of_golve=pd.DataFrame(columns=[\"values\"])   \n",
        "for i in GloVe_dict.values():\n",
        "    values.append(i)\n",
        "value=np.array(values)\n",
        "data_value_of_golve[\"values\"]=GloVe_dict.values()\n",
        "mean=data_value_of_golve[\"values\"].mean()\n",
        "array_std=np.array(data_value_of_golve[\"values\"].values)\n",
        "array_std=array_std.reshape(-1,50)\n",
        "std=array_std.std()\n",
        "\n",
        "def initialization_vector(mean,std):\n",
        "    \"\"\"\n",
        "    Nếu một từ xuất hiện trong GloVe dictionary, chúng ta nên \n",
        "    lấy giá trị khởi tạo của nó như trong GloVe dictionary. \n",
        "    Nếu không, hãy lấy một giá trị ngẫu nhiên bình thường với\n",
        "    mean và std làm mean và std của giá trị GloVe dictionary.\n",
        "    \"\"\"\n",
        "    initialization_vector = np.random.normal(loc=mean, scale=std, size=50)\n",
        "    return initialization_vector\n",
        "\n",
        "def create_embedding_matrix(GloVe_dict, tokenizer, max_features):\n",
        "    '''\n",
        "    input: GloVe dictionaray, tokenizer từ tập huấn luyện và tập kiểm định, số lượng đặc trưng tối đa.\n",
        "    output: Word embedding matrix.\n",
        "    '''\n",
        "    embedding_matrix = np.zeros((len(tokenizer.word_index) + 1, embed_size))\n",
        "    num_words_in_embedding = 0\n",
        "    for word, i in tokenizer.word_index.items():\n",
        "        embedding_vector = GloVe_dict.get(word)\n",
        "        if embedding_vector is not None:\n",
        "            num_words_in_embedding += 1\n",
        "            embedding_matrix[i] = embedding_vector\n",
        "        else:\n",
        "            embedding_matrix[i]=initialization_vector(mean,std)\n",
        "    return embedding_matrix\n",
        "\n",
        "embedding_matrix = create_embedding_matrix(GloVe_dict, tokenizer, max_features)"
      ],
      "execution_count": 13,
      "outputs": []
    },
    {
      "cell_type": "markdown",
      "metadata": {
        "id": "NWybjdQkqWrg"
      },
      "source": [
        "# III. Lập mô hình\n",
        "Chúng ta cần hoàn thành một số bước: \n",
        "\n",
        "Xây dựng mô hình.\n",
        "\n",
        "Biên dịch mô hình.\n",
        "\n",
        "Huấn luyện/khớp dữ liệu với mô hình.\n",
        "\n",
        "Đánh giá mô hình trên tập kiểm tra."
      ]
    },
    {
      "cell_type": "markdown",
      "metadata": {
        "id": "I6AMfqQkqcET"
      },
      "source": [
        "## Xây dựng mô hình Chúng ta có thể xây dựng một mô hình dễ dàng gồm các layer khác nhau như:\n",
        "* Layer [Embedding](https://keras.io/layers/embeddings/) với max_features, embed_size và embedding_matrix.\n",
        "* [Bidirectional LSTM layer](https://keras.io/examples/nlp/bidirectional_lstm_imdb/?fbclid=IwAR3fEd6aWyeIDEhZSspjtCRiP0c0Jnz5-XdnUHQYwX8Tp8k9Ni4I8Q5tP9o) với số lượng trạng thái ẩn = 50, dropout_rate = 0.1 và recurrent_dropout_rate = 0.1.\n",
        "* GlobalMaxPool1D.\n",
        "* Dense với số nút = 50, activation = 'relu'.\n",
        "* Dropout với rate = 0.1.\n",
        "* Final dense với số nút = số class, activation = 'sigmoid'."
      ]
    },
    {
      "cell_type": "code",
      "metadata": {
        "id": "J7_eizWaqi_7"
      },
      "source": [
        "def create_model(max_len, max_features, embed_size):\n",
        "    '''\n",
        "    input: max_len, max_features, embed_size\n",
        "    output: model.\n",
        "    '''\n",
        "    ## TYPE YOUR CODE for task 7 here:\n",
        "    model = keras.Sequential()\n",
        "    embedding_layer= layers.Embedding(\n",
        "                          input_dim=embedding_matrix.shape[0], # thiết lập shape đầu vào\n",
        "                          output_dim=embed_size, # thiết lập kích thước của vectơ embedding\n",
        "                          embeddings_initializer=\"uniform\", # mặc định, khởi tại ngẫu nhiên\n",
        "                          weights=[embedding_matrix],\n",
        "                          input_length=max_len, # mỗi đầu vào dài bao nhiêu\n",
        "                          # trainable=False,\n",
        "                          name=\"embedding\") \n",
        "    \n",
        "    # text_vectorizer = TextVectorization(max_tokens=None, # có bao nhiêu từ trong từ vựng (toàn bộ các từ khác nhau trong text)\n",
        "    #                                 standardize=\"lower_and_strip_punctuation\", # cách xử lý text\n",
        "    #                                 split=\"whitespace\", # cách phân chia token\n",
        "    #                                 ngrams=None, # có tạo nhóm n-từ không?\n",
        "    #                                 output_mode=\"int\", # cách ánh xạ token thành số\n",
        "    #                                 output_sequence_length=None)\n",
        "    \n",
        "    model.add(layers.Input(shape=(50,)))\n",
        "    # model.add(text_vectorizer)\n",
        "    model.add(embedding_layer)\n",
        "    model.add(Bidirectional(LSTM(50,return_sequences=True)))\n",
        "    model.add(layers.Dropout(0.1))\n",
        "    model.add(layers.GlobalMaxPool1D())\n",
        "    model.add(layers.Dense(50,activation=\"relu\"))\n",
        "    model.add(layers.Dropout(0.1))\n",
        "    model.add(layers.Dense(1,activation=\"sigmoid\"))   \n",
        "    \n",
        "    return model\n",
        "\n",
        "model = create_model(max_len, max_features, embed_size)"
      ],
      "execution_count": 14,
      "outputs": []
    },
    {
      "cell_type": "markdown",
      "metadata": {
        "id": "lWcBKhzMux9Z"
      },
      "source": [
        "## Biên dịch mô hình và thiết lập callback. Sau đó in ra model summary.\n",
        "* [Biên dịch](https://keras.io/models/model/#compile) mô hình với Adam Optimizer, lr = 1e-2, loss phù hợp cho bài toán phân loại nhị phân và [\"F1-score\"](https://github.com/tensorflow/addons/issues/825) là phép đo.\n",
        "* In ra model summary."
      ]
    },
    {
      "cell_type": "code",
      "source": [
        "def f1_metric(y_true, y_pred):\n",
        "    true_positives = K.sum(K.round(K.clip(y_true * y_pred, 0, 1)))\n",
        "    possible_positives = K.sum(K.round(K.clip(y_true, 0, 1)))\n",
        "    predicted_positives = K.sum(K.round(K.clip(y_pred, 0, 1)))\n",
        "    precision = true_positives / (predicted_positives + K.epsilon())\n",
        "    recall = true_positives / (possible_positives + K.epsilon())\n",
        "    f1_val = 2*(precision*recall)/(precision+recall+K.epsilon())\n",
        "    return f1_val"
      ],
      "metadata": {
        "id": "NwepIWB7Z9yp"
      },
      "execution_count": 15,
      "outputs": []
    },
    {
      "cell_type": "code",
      "metadata": {
        "id": "P9l8EbG0ur1F"
      },
      "source": [
        "def optimize(model):\n",
        "    '''\n",
        "    Input: \n",
        "        Model.\n",
        "    Return: \n",
        "        Complied model.\n",
        "    '''\n",
        "    model.compile(optimizer=tf.keras.optimizers.Adam(learning_rate=1e-2), loss='binary_crossentropy', metrics=['acc',f1_metric])\n",
        "    return model\n",
        "\n",
        "model = optimize(model)"
      ],
      "execution_count": 16,
      "outputs": []
    },
    {
      "cell_type": "markdown",
      "metadata": {
        "id": "0BlenccGzLVr"
      },
      "source": [
        "Thiết lập callback.\n",
        "* Tạo [tensorboard callback](https://www.tensorflow.org/tensorboard/tensorboard_in_notebooks) để lưu logs.\n",
        "* Tạo [checkpoint callback](https://machinelearningmastery.com/check-point-deep-learning-models-keras/) để lưu checkpoint với độ chính xác tốt nhất sau mỗi epoch.\n",
        "* Tạo [ReduceLROnPlateau](https://keras.io/callbacks/#reducelronplateau) callback với factor=0.3, patience=1 và \"Validation F1-score\" monitor.\n",
        "* Tạo [early stopping callback](https://keras.io/callbacks/#earlystopping) với patience=7, mode = 'max' và \"Validation F1-score\" monitor.\n",
        "\n"
      ]
    },
    {
      "cell_type": "code",
      "metadata": {
        "id": "I6x6dteutin0"
      },
      "source": [
        "def callback_model(checkpoint_name, logs_name):\n",
        "    '''\n",
        "    Input: \n",
        "        Checkpoint name, logs name tốt nhất.\n",
        "    Return: \n",
        "        Callback list có chứa tensorboard callback và checkpoint callback.\n",
        "    '''\n",
        "    #Tensorboard\n",
        "    logdir = os.path.join(\"logs\", datetime.datetime.now().strftime(\"%Y%m%d-%H%M%S\"))\n",
        "    tensorboard_callback=tf.keras.callbacks.TensorBoard(logdir, histogram_freq=1)\n",
        "    tensorboard_callback=tf.keras.callbacks.TensorBoard(logs_name, histogram_freq=1)\n",
        "    #Early_Stopping\n",
        "    early_stopping = EarlyStopping(monitor = 'val_f1_metric',\n",
        "                               patience = 7,\n",
        "                               mode = 'max',\n",
        "                               restore_best_weights = True)\n",
        "\n",
        "    # Save the model with the minimum validation loss\n",
        "    checkpoint = ModelCheckpoint(checkpoint_name,monitor = 'val_f1_metric',verbose = 1,mode = 'max', save_best_only = True)\n",
        "\n",
        "    # reduce learning rate\n",
        "    reduce_lr = ReduceLROnPlateau(monitor = 'val_f1_metric',factor = 0.3,patience = 1)\n",
        "\n",
        "    callbacks_list=[tensorboard_callback,checkpoint,reduce_lr,early_stopping]                              \n",
        "    return callbacks_list\n",
        "\n",
        "checkpoint_name = 'weights.best.hdf5'\n",
        "logs_name = 'training_logs'\n",
        "callbacks_list = callback_model(checkpoint_name, logs_name)"
      ],
      "execution_count": 17,
      "outputs": []
    },
    {
      "cell_type": "markdown",
      "metadata": {
        "id": "9nDCsHAC2HwW"
      },
      "source": [
        "##Huấn luyện mô hình.\n",
        "\n",
        "* Huấn luyện mô hình với 20 epoch với batch_size = 4096.\n",
        "* Trả về mô hình có trọng số checkpoint tốt nhất.\n",
        "\n",
        "*Gợi ý*: Trước tiên hãy khớp mô hình, sau đó reload mô hình (hàm load_model) với trọng số checkpoint tốt nhất."
      ]
    },
    {
      "cell_type": "code",
      "metadata": {
        "id": "xttwiHh4u0ES",
        "colab": {
          "base_uri": "https://localhost:8080/"
        },
        "outputId": "259b1abc-86a7-4ffb-8db9-69ee921e27a6"
      },
      "source": [
        "def train_model(model, callbacks_list):\n",
        "    '''\n",
        "    Input: \n",
        "        Mô hình và callback list,\n",
        "    Return: \n",
        "        Mô hình với trọng số checkpoint tốt nhất.\n",
        "    '''\n",
        "    model.fit(X_tr,\n",
        "              y_tr,              \n",
        "              epochs=15,\n",
        "              batch_size = 4096,\n",
        "              validation_data=(X_va,y_va),\n",
        "              callbacks=callbacks_list\n",
        "              )\n",
        "    return model\n",
        "\n",
        "model = train_model(model, callbacks_list)"
      ],
      "execution_count": 18,
      "outputs": [
        {
          "output_type": "stream",
          "name": "stdout",
          "text": [
            "Epoch 1/15\n",
            "38/38 [==============================] - ETA: 0s - loss: 0.4068 - acc: 0.8153 - f1_metric: 0.8142\n",
            "Epoch 1: val_f1_metric improved from -inf to 0.89627, saving model to weights.best.hdf5\n",
            "38/38 [==============================] - 91s 2s/step - loss: 0.4068 - acc: 0.8153 - f1_metric: 0.8142 - val_loss: 0.2681 - val_acc: 0.8941 - val_f1_metric: 0.8963 - lr: 0.0100\n",
            "Epoch 2/15\n",
            "38/38 [==============================] - ETA: 0s - loss: 0.2569 - acc: 0.9016 - f1_metric: 0.9027\n",
            "Epoch 2: val_f1_metric improved from 0.89627 to 0.90785, saving model to weights.best.hdf5\n",
            "38/38 [==============================] - 85s 2s/step - loss: 0.2569 - acc: 0.9016 - f1_metric: 0.9027 - val_loss: 0.2484 - val_acc: 0.9064 - val_f1_metric: 0.9078 - lr: 0.0100\n",
            "Epoch 3/15\n",
            "38/38 [==============================] - ETA: 0s - loss: 0.2238 - acc: 0.9175 - f1_metric: 0.9183\n",
            "Epoch 3: val_f1_metric did not improve from 0.90785\n",
            "38/38 [==============================] - 83s 2s/step - loss: 0.2238 - acc: 0.9175 - f1_metric: 0.9183 - val_loss: 0.2468 - val_acc: 0.9059 - val_f1_metric: 0.9072 - lr: 0.0030\n",
            "Epoch 4/15\n",
            "38/38 [==============================] - ETA: 0s - loss: 0.2135 - acc: 0.9215 - f1_metric: 0.9222\n",
            "Epoch 4: val_f1_metric did not improve from 0.90785\n",
            "38/38 [==============================] - 87s 2s/step - loss: 0.2135 - acc: 0.9215 - f1_metric: 0.9222 - val_loss: 0.2472 - val_acc: 0.9045 - val_f1_metric: 0.9055 - lr: 9.0000e-04\n",
            "Epoch 5/15\n",
            "38/38 [==============================] - ETA: 0s - loss: 0.2106 - acc: 0.9228 - f1_metric: 0.9234\n",
            "Epoch 5: val_f1_metric did not improve from 0.90785\n",
            "38/38 [==============================] - 83s 2s/step - loss: 0.2106 - acc: 0.9228 - f1_metric: 0.9234 - val_loss: 0.2473 - val_acc: 0.9052 - val_f1_metric: 0.9069 - lr: 2.7000e-04\n",
            "Epoch 6/15\n",
            "38/38 [==============================] - ETA: 0s - loss: 0.2098 - acc: 0.9235 - f1_metric: 0.9244\n",
            "Epoch 6: val_f1_metric did not improve from 0.90785\n",
            "38/38 [==============================] - 82s 2s/step - loss: 0.2098 - acc: 0.9235 - f1_metric: 0.9244 - val_loss: 0.2473 - val_acc: 0.9042 - val_f1_metric: 0.9054 - lr: 8.1000e-05\n",
            "Epoch 7/15\n",
            "38/38 [==============================] - ETA: 0s - loss: 0.2090 - acc: 0.9238 - f1_metric: 0.9247\n",
            "Epoch 7: val_f1_metric did not improve from 0.90785\n",
            "38/38 [==============================] - 87s 2s/step - loss: 0.2090 - acc: 0.9238 - f1_metric: 0.9247 - val_loss: 0.2473 - val_acc: 0.9047 - val_f1_metric: 0.9059 - lr: 2.4300e-05\n",
            "Epoch 8/15\n",
            "38/38 [==============================] - ETA: 0s - loss: 0.2091 - acc: 0.9237 - f1_metric: 0.9245\n",
            "Epoch 8: val_f1_metric did not improve from 0.90785\n",
            "38/38 [==============================] - 83s 2s/step - loss: 0.2091 - acc: 0.9237 - f1_metric: 0.9245 - val_loss: 0.2473 - val_acc: 0.9047 - val_f1_metric: 0.9059 - lr: 7.2900e-06\n",
            "Epoch 9/15\n",
            "38/38 [==============================] - ETA: 0s - loss: 0.2089 - acc: 0.9238 - f1_metric: 0.9245\n",
            "Epoch 9: val_f1_metric did not improve from 0.90785\n",
            "38/38 [==============================] - 86s 2s/step - loss: 0.2089 - acc: 0.9238 - f1_metric: 0.9245 - val_loss: 0.2473 - val_acc: 0.9047 - val_f1_metric: 0.9059 - lr: 2.1870e-06\n"
          ]
        }
      ]
    },
    {
      "cell_type": "markdown",
      "metadata": {
        "id": "QsG02Ao07Mc-"
      },
      "source": [
        "## Hiển thị tensorboard trong notebook."
      ]
    },
    {
      "cell_type": "code",
      "metadata": {
        "id": "jpBk-EKZ2Ut7",
        "colab": {
          "base_uri": "https://localhost:8080/"
        },
        "outputId": "06afea62-6499-4e28-f6b8-fd47509e70dd"
      },
      "source": [
        "!tensorboard dev upload --logdir ./training_logs \\\n",
        "  --name \"Classification_Toxic_Comment\" \\\n",
        "  --description \"The Last Training\" \\\n",
        "  --one_shot"
      ],
      "execution_count": 20,
      "outputs": [
        {
          "output_type": "stream",
          "name": "stdout",
          "text": [
            "2022-08-18 07:41:16.313464: E tensorflow/stream_executor/cuda/cuda_driver.cc:271] failed call to cuInit: CUDA_ERROR_NO_DEVICE: no CUDA-capable device is detected\n",
            "\n",
            "***** TensorBoard Uploader *****\n",
            "\n",
            "This will upload your TensorBoard logs to https://tensorboard.dev/ from\n",
            "the following directory:\n",
            "\n",
            "./training_logs\n",
            "\n",
            "This TensorBoard will be visible to everyone. Do not upload sensitive\n",
            "data.\n",
            "\n",
            "Your use of this service is subject to Google's Terms of Service\n",
            "<https://policies.google.com/terms> and Privacy Policy\n",
            "<https://policies.google.com/privacy>, and TensorBoard.dev's Terms of Service\n",
            "<https://tensorboard.dev/policy/terms/>.\n",
            "\n",
            "This notice will not be shown again while you are logged into the uploader.\n",
            "To log out, run `tensorboard dev auth revoke`.\n",
            "\n",
            "Continue? (yes/NO) yes\n",
            "\n",
            "Please visit this URL to authorize this application: https://accounts.google.com/o/oauth2/auth?response_type=code&client_id=373649185512-8v619h5kft38l4456nm2dj4ubeqsrvh6.apps.googleusercontent.com&redirect_uri=urn%3Aietf%3Awg%3Aoauth%3A2.0%3Aoob&scope=openid+https%3A%2F%2Fwww.googleapis.com%2Fauth%2Fuserinfo.email&state=GWlJ8Y8XkzX86VkmkuNVW3DgWnZ3gx&prompt=consent&access_type=offline\n",
            "Enter the authorization code: 4/1AdQt8qg6Kxt4tim80kBnAOYWSJq0gCreF-R3lpPLmpjlq64_ubGTFSX4wt8\n",
            "\n",
            "\n",
            "New experiment created. View your TensorBoard at: https://tensorboard.dev/experiment/zjXKx3n8RmGECqOgOTytVQ/\n",
            "\n",
            "\u001b[1m[2022-08-18T07:41:46]\u001b[0m Started scanning logdir.\n",
            "E0818 07:41:47.747228 140496970307456 uploader.py:1122] Attempted to re-upload existing blob.  Skipping.\n",
            "E0818 07:41:48.768424 140496970307456 uploader.py:1122] Attempted to re-upload existing blob.  Skipping.\n",
            "E0818 07:41:49.952023 140496970307456 uploader.py:1122] Attempted to re-upload existing blob.  Skipping.\n",
            "E0818 07:41:50.989085 140496970307456 uploader.py:1122] Attempted to re-upload existing blob.  Skipping.\n",
            "E0818 07:41:52.025042 140496970307456 uploader.py:1122] Attempted to re-upload existing blob.  Skipping.\n",
            "E0818 07:41:56.111812 140496970307456 uploader.py:1122] Attempted to re-upload existing blob.  Skipping.\n",
            "\u001b[1m[2022-08-18T07:41:58]\u001b[0m Total uploaded: 783 scalars, 1501 tensors (1.1 MB), 1 binary objects (406.5 kB)\n",
            "\u001b[90mTotal skipped: 6 binary objects (4.1 MB)\n",
            "\u001b[0m\u001b[1m[2022-08-18T07:41:58]\u001b[0m Done scanning logdir.\n",
            "\n",
            "\n",
            "Done. View your TensorBoard at https://tensorboard.dev/experiment/zjXKx3n8RmGECqOgOTytVQ/\n"
          ]
        }
      ]
    },
    {
      "cell_type": "markdown",
      "metadata": {
        "id": "4z1ed1CY8Rxh"
      },
      "source": [
        "## Dự đoán trên tập kiểm tra.\n",
        "\n",
        "* Hoàn thành hàm get_prediction_classes.\n",
        "* In ra precision, recall và F1 score."
      ]
    },
    {
      "cell_type": "code",
      "metadata": {
        "id": "gHTjBLZYvx26",
        "colab": {
          "base_uri": "https://localhost:8080/"
        },
        "outputId": "02037fd5-93fc-43a0-8f0b-f5ef2c04d345"
      },
      "source": [
        "def get_prediction_classes(model, X, y):\n",
        "    '''\n",
        "    Input: \n",
        "        Mô hình và tập dữ liệu dự đoán. \n",
        "    Return: \n",
        "        Prediction list và groundtrurth list với predicted classes. \n",
        "    '''\n",
        "    predictions=model.predict(X)\n",
        "    predictions=np.around(predictions,0)\n",
        "    groundtruths=y.values\n",
        "    groundtruths=groundtruths.reshape(-1,1)\n",
        "    return predictions, groundtruths\n",
        "\n",
        "test_predictions, test_groundtruths = get_prediction_classes(model,  X_te, y_te)\n",
        "print(precision_score(test_predictions, test_groundtruths))\n",
        "print(recall_score(test_predictions, test_groundtruths))\n",
        "print(f1_score(test_predictions, test_groundtruths))"
      ],
      "execution_count": 21,
      "outputs": [
        {
          "output_type": "stream",
          "name": "stdout",
          "text": [
            "127/127 [==============================] - 2s 11ms/step\n",
            "0.9173267326732674\n",
            "0.8832221163012393\n",
            "0.8999514327343371\n"
          ]
        }
      ]
    },
    {
      "cell_type": "markdown",
      "metadata": {
        "id": "JJwQahjp8hZs"
      },
      "source": [
        "## Thực hiện kết quả dự đoán trên tập kiểm tra bằng cách sử dụng ma trận nhầm lẫn. Hãy nhớ hiển thị tên lớp trong ma trận nhầm lẫn."
      ]
    },
    {
      "cell_type": "code",
      "metadata": {
        "id": "5KKAmOGvv2Be",
        "colab": {
          "base_uri": "https://localhost:8080/",
          "height": 295
        },
        "outputId": "85be7847-a577-48d6-8f5c-a1958a0b42ca"
      },
      "source": [
        "def plot_confusion_matrix(predictions, groundtruth, class_names):\n",
        "    ## TYPE YOUR CODE for task 13 here:    \n",
        "    cf=metrics.confusion_matrix(groundtruth,predictions)\n",
        "    ax= plot.subplot()\n",
        "    sn.heatmap(cf, annot=True, fmt='g', ax=ax)\n",
        "    ax.set_xlabel('Predicted labels');ax.set_ylabel('True labels'); \n",
        "    ax.set_title('Confusion Matrix'); \n",
        "    ax.xaxis.set_ticklabels(class_names); ax.yaxis.set_ticklabels(class_names)\n",
        "class_names = ['valid', 'invalid']\n",
        "plot_confusion_matrix(test_predictions, test_groundtruths, class_names)"
      ],
      "execution_count": 22,
      "outputs": [
        {
          "output_type": "display_data",
          "data": {
            "text/plain": [
              "<Figure size 432x288 with 2 Axes>"
            ],
            "image/png": "[encoded data removed]"
          },
          "metadata": {
            "needs_background": "light"
          }
        }
      ]
    }
  ]
}
